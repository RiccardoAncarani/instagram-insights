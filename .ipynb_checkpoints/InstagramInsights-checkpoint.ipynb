{
 "cells": [
  {
   "cell_type": "markdown",
   "metadata": {},
   "source": [
    "# Instagram Insights \n"
   ]
  },
  {
   "cell_type": "code",
   "execution_count": 72,
   "metadata": {
    "collapsed": false,
    "deletable": true,
    "editable": true
   },
   "outputs": [],
   "source": [
    "import pandas as pd\n",
    "import numpy as np\n",
    "from pandas.io.json import json_normalize\n",
    "import json\n",
    "import datetime\n",
    "import matplotlib.pyplot as plt\n",
    "import seaborn as sns\n",
    "\n",
    "with open(\"/home/riccardo/tools/instagram-scraper/instagram_scraper/ducatimotor/ducatimotor.json\") as f:\n",
    "    j = json.load(f)"
   ]
  },
  {
   "cell_type": "code",
   "execution_count": 73,
   "metadata": {
    "collapsed": false,
    "deletable": true,
    "editable": true
   },
   "outputs": [],
   "source": [
    "def clean_json(j):\n",
    "    '''\n",
    "    Extract from the metadata only the relevant information\n",
    "    '''\n",
    "    try:\n",
    "        new_json = {}\n",
    "        new_json['caption'] = j['caption']['text']\n",
    "        new_json['time'] = j['caption']['created_time']\n",
    "        new_json['n_comment'] = j['comments']['count']\n",
    "        new_json['n_likes'] = j['likes']['count']\n",
    "        new_json['type'] = j['type']\n",
    "        return new_json\n",
    "    except:\n",
    "        return None\n",
    "    \n",
    "cleared_data = [clean_json(e) for e in j] # run the transform on every media\n",
    "cleared_data = [clear for clear in cleared_data if clear]"
   ]
  },
  {
   "cell_type": "code",
   "execution_count": 74,
   "metadata": {
    "collapsed": false,
    "deletable": true,
    "editable": true
   },
   "outputs": [
    {
     "data": {
      "text/html": [
       "<div>\n",
       "<table border=\"1\" class=\"dataframe\">\n",
       "  <thead>\n",
       "    <tr style=\"text-align: right;\">\n",
       "      <th></th>\n",
       "      <th>caption</th>\n",
       "      <th>n_comment</th>\n",
       "      <th>n_likes</th>\n",
       "      <th>time</th>\n",
       "      <th>type</th>\n",
       "    </tr>\n",
       "  </thead>\n",
       "  <tbody>\n",
       "    <tr>\n",
       "      <th>0</th>\n",
       "      <td>\"I needed a motorbike smart and agile for my e...</td>\n",
       "      <td>0</td>\n",
       "      <td>561</td>\n",
       "      <td>1495805062</td>\n",
       "      <td>image</td>\n",
       "    </tr>\n",
       "    <tr>\n",
       "      <th>1</th>\n",
       "      <td>The genuine leather seat is an exclusive and u...</td>\n",
       "      <td>1</td>\n",
       "      <td>1942</td>\n",
       "      <td>1495790766</td>\n",
       "      <td>image</td>\n",
       "    </tr>\n",
       "    <tr>\n",
       "      <th>2</th>\n",
       "      <td>Imagine riding to the racetrack with the full ...</td>\n",
       "      <td>17</td>\n",
       "      <td>8423</td>\n",
       "      <td>1495732554</td>\n",
       "      <td>image</td>\n",
       "    </tr>\n",
       "    <tr>\n",
       "      <th>3</th>\n",
       "      <td>#Repost @willdavison__ /\\nHave absolutely love...</td>\n",
       "      <td>9</td>\n",
       "      <td>4533</td>\n",
       "      <td>1495726613</td>\n",
       "      <td>image</td>\n",
       "    </tr>\n",
       "    <tr>\n",
       "      <th>4</th>\n",
       "      <td>At the beginning of the 70's, Ducati began the...</td>\n",
       "      <td>6</td>\n",
       "      <td>3376</td>\n",
       "      <td>1495719137</td>\n",
       "      <td>image</td>\n",
       "    </tr>\n",
       "  </tbody>\n",
       "</table>\n",
       "</div>"
      ],
      "text/plain": [
       "                                             caption  n_comment  n_likes  \\\n",
       "0  \"I needed a motorbike smart and agile for my e...          0      561   \n",
       "1  The genuine leather seat is an exclusive and u...          1     1942   \n",
       "2  Imagine riding to the racetrack with the full ...         17     8423   \n",
       "3  #Repost @willdavison__ /\\nHave absolutely love...          9     4533   \n",
       "4  At the beginning of the 70's, Ducati began the...          6     3376   \n",
       "\n",
       "         time   type  \n",
       "0  1495805062  image  \n",
       "1  1495790766  image  \n",
       "2  1495732554  image  \n",
       "3  1495726613  image  \n",
       "4  1495719137  image  "
      ]
     },
     "execution_count": 74,
     "metadata": {},
     "output_type": "execute_result"
    }
   ],
   "source": [
    "data_frame = pd.DataFrame.from_dict(cleared_data)\n",
    "data_frame.head()"
   ]
  },
  {
   "cell_type": "code",
   "execution_count": 75,
   "metadata": {
    "collapsed": false,
    "deletable": true,
    "editable": true
   },
   "outputs": [],
   "source": [
    "def fix_time(time, format):\n",
    "    return(\n",
    "    datetime.datetime.fromtimestamp(\n",
    "        int(time)\n",
    "    ).strftime(format) # Convert the time into year month day hour format\n",
    ")"
   ]
  },
  {
   "cell_type": "code",
   "execution_count": 76,
   "metadata": {
    "collapsed": false,
    "deletable": true,
    "editable": true
   },
   "outputs": [
    {
     "data": {
      "text/html": [
       "<div>\n",
       "<table border=\"1\" class=\"dataframe\">\n",
       "  <thead>\n",
       "    <tr style=\"text-align: right;\">\n",
       "      <th></th>\n",
       "      <th>caption</th>\n",
       "      <th>n_comment</th>\n",
       "      <th>n_likes</th>\n",
       "      <th>type</th>\n",
       "      <th>%Y</th>\n",
       "      <th>%m</th>\n",
       "      <th>%w</th>\n",
       "      <th>%H</th>\n",
       "    </tr>\n",
       "  </thead>\n",
       "  <tbody>\n",
       "    <tr>\n",
       "      <th>0</th>\n",
       "      <td>\"I needed a motorbike smart and agile for my e...</td>\n",
       "      <td>0</td>\n",
       "      <td>561</td>\n",
       "      <td>image</td>\n",
       "      <td>2017</td>\n",
       "      <td>05</td>\n",
       "      <td>5</td>\n",
       "      <td>15</td>\n",
       "    </tr>\n",
       "    <tr>\n",
       "      <th>1</th>\n",
       "      <td>The genuine leather seat is an exclusive and u...</td>\n",
       "      <td>1</td>\n",
       "      <td>1942</td>\n",
       "      <td>image</td>\n",
       "      <td>2017</td>\n",
       "      <td>05</td>\n",
       "      <td>5</td>\n",
       "      <td>11</td>\n",
       "    </tr>\n",
       "    <tr>\n",
       "      <th>2</th>\n",
       "      <td>Imagine riding to the racetrack with the full ...</td>\n",
       "      <td>17</td>\n",
       "      <td>8423</td>\n",
       "      <td>image</td>\n",
       "      <td>2017</td>\n",
       "      <td>05</td>\n",
       "      <td>4</td>\n",
       "      <td>19</td>\n",
       "    </tr>\n",
       "    <tr>\n",
       "      <th>3</th>\n",
       "      <td>#Repost @willdavison__ /\\nHave absolutely love...</td>\n",
       "      <td>9</td>\n",
       "      <td>4533</td>\n",
       "      <td>image</td>\n",
       "      <td>2017</td>\n",
       "      <td>05</td>\n",
       "      <td>4</td>\n",
       "      <td>17</td>\n",
       "    </tr>\n",
       "    <tr>\n",
       "      <th>4</th>\n",
       "      <td>At the beginning of the 70's, Ducati began the...</td>\n",
       "      <td>6</td>\n",
       "      <td>3376</td>\n",
       "      <td>image</td>\n",
       "      <td>2017</td>\n",
       "      <td>05</td>\n",
       "      <td>4</td>\n",
       "      <td>15</td>\n",
       "    </tr>\n",
       "  </tbody>\n",
       "</table>\n",
       "</div>"
      ],
      "text/plain": [
       "                                             caption  n_comment  n_likes  \\\n",
       "0  \"I needed a motorbike smart and agile for my e...          0      561   \n",
       "1  The genuine leather seat is an exclusive and u...          1     1942   \n",
       "2  Imagine riding to the racetrack with the full ...         17     8423   \n",
       "3  #Repost @willdavison__ /\\nHave absolutely love...          9     4533   \n",
       "4  At the beginning of the 70's, Ducati began the...          6     3376   \n",
       "\n",
       "    type    %Y  %m %w  %H  \n",
       "0  image  2017  05  5  15  \n",
       "1  image  2017  05  5  11  \n",
       "2  image  2017  05  4  19  \n",
       "3  image  2017  05  4  17  \n",
       "4  image  2017  05  4  15  "
      ]
     },
     "execution_count": 76,
     "metadata": {},
     "output_type": "execute_result"
    }
   ],
   "source": [
    "'''\n",
    "Convert the timestamp into a fine time data, but I want also to split the part of the time data into year, month, day and hour\n",
    "'''\n",
    "times = data_frame['time']\n",
    "\n",
    "time_formats = [\"%Y\", \"%m\", \"%w\", \"%H\"]\n",
    "for format_type in time_formats:\n",
    "    data_frame = pd.concat([data_frame,(times.apply(fix_time, format=(format_type))).rename(format_type)], axis=1)\n",
    "\n",
    "data_frame = data_frame.drop(\"time\", axis=1)\n",
    "\n",
    "#data_frame['%d'] = data_frame['%d'].apply(fix_day)\n",
    "data_frame.head()"
   ]
  },
  {
   "cell_type": "markdown",
   "metadata": {},
   "source": [
    "## Grouping by the weekday\n",
    "Now that the data is cleaned, we can start extracting some useful insights.\n",
    "We begin with looking at what weekday a post receives more likes."
   ]
  },
  {
   "cell_type": "code",
   "execution_count": 77,
   "metadata": {
    "collapsed": false
   },
   "outputs": [
    {
     "data": {
      "text/plain": [
       "[<matplotlib.lines.Line2D at 0x7f7214975f10>]"
      ]
     },
     "execution_count": 77,
     "metadata": {},
     "output_type": "execute_result"
    },
    {
     "data": {
      "image/png": "[encoded data removed]",
      "text/plain": [
       "<matplotlib.figure.Figure at 0x7f7208766610>"
      ]
     },
     "metadata": {},
     "output_type": "display_data"
    }
   ],
   "source": [
    "%matplotlib inline\n",
    "plt.plot(data_frame.groupby([\"%w\"]).median()['n_likes'])"
   ]
  },
  {
   "cell_type": "markdown",
   "metadata": {},
   "source": [
    "## Grouping by the hour\n",
    "We can now move on and discover what is the best hour for posting."
   ]
  },
  {
   "cell_type": "code",
   "execution_count": 128,
   "metadata": {
    "collapsed": false
   },
   "outputs": [
    {
     "data": {
      "text/plain": [
       "[<matplotlib.lines.Line2D at 0x7f72142c6550>]"
      ]
     },
     "execution_count": 128,
     "metadata": {},
     "output_type": "execute_result"
    },
    {
     "data": {
      "image/png": "[encoded data removed]",
      "text/plain": [
       "<matplotlib.figure.Figure at 0x7f72145d0610>"
      ]
     },
     "metadata": {},
     "output_type": "display_data"
    }
   ],
   "source": [
    "%matplotlib inline\n",
    "plt.plot(data_frame.groupby([\"%H\"]).median()['n_likes'])"
   ]
  },
  {
   "cell_type": "markdown",
   "metadata": {},
   "source": [
    "## Number of likes heatmap\n",
    "The question is: what's the optimal time for posting according to my audience? <br>\n",
    "We want to mix the previous information and find some more useful data.<br>\n",
    "Heatmaps really come handy in this kind of situations."
   ]
  },
  {
   "cell_type": "code",
   "execution_count": 127,
   "metadata": {
    "collapsed": false
   },
   "outputs": [
    {
     "data": {
      "text/plain": [
       "<matplotlib.axes._subplots.AxesSubplot at 0x7f72145d0c10>"
      ]
     },
     "execution_count": 127,
     "metadata": {},
     "output_type": "execute_result"
    },
    {
     "data": {
      "image/png": "[encoded data removed]",
      "text/plain": [
       "<matplotlib.figure.Figure at 0x7f72142dbf10>"
      ]
     },
     "metadata": {},
     "output_type": "display_data"
    }
   ],
   "source": [
    "# total borrowed from https://stackoverflow.com/questions/34225839/groupby-multiple-values-and-plotting-results\n",
    "\n",
    "apple_fplot = data_frame.groupby([\"%w\",\"%H\"]).median()\n",
    "plot_df = apple_fplot.unstack('%w').loc[:, 'n_likes']\n",
    "fig, ax = plt.subplots(figsize=(20,10))         # Sample figsize in inches\n",
    "\n",
    "sns.heatmap(plot_df,ax=ax)"
   ]
  },
  {
   "cell_type": "markdown",
   "metadata": {},
   "source": [
    "# Machine Learning\n",
    "Now on the serious things, the aim of this section is to create a model that can predict, given a post, the number of likes that that post will get.<br>\n",
    "I used a **SVR** or **S**upport **V**ector **R**egression for this task.<br>\n",
    "The only dependency is Sklearn and matplotlib.\n",
    "\n",
    "> **NOTE**: This is a work in progress section, no accurate result expected\n",
    "\n",
    "The hyperparameters tuning is made totally **by hand**, what a *rude* man am I?"
   ]
  },
  {
   "cell_type": "code",
   "execution_count": 6,
   "metadata": {
    "collapsed": false
   },
   "outputs": [],
   "source": [
    "from sklearn.feature_extraction.text import CountVectorizer\n",
    "\n",
    "vectorizer = CountVectorizer()\n",
    "X = vectorizer.fit_transform(data_frame['caption'])\n",
    "data_frame = data_frame.drop([\"caption\"], axis=1)\n",
    "data_frame = pd.concat([data_frame,pd.DataFrame(X.toarray())], axis=1)"
   ]
  },
  {
   "cell_type": "code",
   "execution_count": 7,
   "metadata": {
    "collapsed": false,
    "deletable": true,
    "editable": true,
    "scrolled": true
   },
   "outputs": [],
   "source": [
    "categorical = [\"type\", \"%Y\", \"%m\", \"%d\", \"%H\"] #Arguable? Maybe, I don't want month and days to be considered continous\n",
    "target = \"n_likes\"\n",
    "y = data_frame[target]\n",
    "data_frame = data_frame.drop([target], axis=1)\n",
    "\n",
    "data_frame = pd.concat([data_frame,pd.get_dummies(data_frame[categorical])], axis=1)\n",
    "data_frame = data_frame.drop(categorical, axis=1)"
   ]
  },
  {
   "cell_type": "code",
   "execution_count": 8,
   "metadata": {
    "collapsed": true
   },
   "outputs": [],
   "source": [
    "from sklearn import preprocessing\n",
    "scaler = preprocessing.StandardScaler().fit(data_frame)\n",
    "X = scaler.transform(data_frame)"
   ]
  },
  {
   "cell_type": "code",
   "execution_count": 38,
   "metadata": {
    "collapsed": false,
    "deletable": true,
    "editable": true
   },
   "outputs": [
    {
     "name": "stdout",
     "output_type": "stream",
     "text": [
      "0.272405647635\n"
     ]
    }
   ],
   "source": [
    "from sklearn.svm import SVR\n",
    "from sklearn.model_selection import train_test_split\n",
    "\n",
    "X_train, X_test, y_train, y_test = train_test_split(X, y, test_size=0.4)\n",
    "\n",
    "svr_rbf = SVR(kernel='rbf', C=1e4, gamma=0.0001, epsilon=0.0001)\n",
    "regressor = svr_rbf.fit(X_train,y_train)\n",
    "\n",
    "print svr_rbf.score(X_test,y_test)"
   ]
  },
  {
   "cell_type": "markdown",
   "metadata": {},
   "source": [
    "#### Visual model evaluation\n",
    "The optimal model should print the line:\n",
    "\\begin{align}\n",
    "y = 1*x\n",
    "\\end{align}\n",
    "\n",
    "That means that the model predicts exactly the correct value."
   ]
  },
  {
   "cell_type": "code",
   "execution_count": 39,
   "metadata": {
    "collapsed": false
   },
   "outputs": [
    {
     "data": {
      "text/plain": [
       "<matplotlib.collections.PathCollection at 0x7f72087c9bd0>"
      ]
     },
     "execution_count": 39,
     "metadata": {},
     "output_type": "execute_result"
    },
    {
     "data": {
      "image/png": "[encoded data removed]",
      "text/plain": [
       "<matplotlib.figure.Figure at 0x7f72089b9910>"
      ]
     },
     "metadata": {},
     "output_type": "display_data"
    }
   ],
   "source": [
    "import pylab as pl\n",
    "%matplotlib inline\n",
    "pl.scatter(y_test,svr_rbf.predict(X_test))"
   ]
  },
  {
   "cell_type": "markdown",
   "metadata": {},
   "source": [
    "...not even close, but not too far."
   ]
  },
  {
   "cell_type": "code",
   "execution_count": null,
   "metadata": {
    "collapsed": true
   },
   "outputs": [],
   "source": []
  }
 ],
 "metadata": {
  "kernelspec": {
   "display_name": "Python 2",
   "language": "python",
   "name": "python2"
  },
  "language_info": {
   "codemirror_mode": {
    "name": "ipython",
    "version": 2
   },
   "file_extension": ".py",
   "mimetype": "text/x-python",
   "name": "python",
   "nbconvert_exporter": "python",
   "pygments_lexer": "ipython2",
   "version": "2.7.12"
  }
 },
 "nbformat": 4,
 "nbformat_minor": 2
}
